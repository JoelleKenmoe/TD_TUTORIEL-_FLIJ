{
 "cells": [
  {
   "cell_type": "code",
   "execution_count": null,
   "metadata": {},
   "outputs": [],
   "source": [
    "Le clustering hiérarchique est un type d'algorithme d'apprentissage automatique non supervisé\n",
    "utilisé pour regrouper des points de données non étiquetés. Comme le clustering K-means,le \n",
    "clustering hiérarchique regroupe également les points de données ayant des caractéristiques \n",
    "similaires. Dans certains cas, le résultat du clustering hiérarchique et K-Means peut être \n",
    "similaire. Avant d'implémenter le clustering hiérarchique à l'aide de Scikit-Learn, \n",
    "commençons par comprendre la théorie derrière le clustering hiérarchique.\n",
    "\n",
    "##Théorie du clustering hiérarchique\n",
    "\n",
    "Il existe deux types de clustering hiérarchique : Agglomerative et Divisive. Dans le \n",
    "premier cas, les points de données sont regroupés à l'aide d'une approche ascendante \n",
    "commençant par des points de données individuels, tandis que dans la seconde, une approche \n",
    "descendante est suivie où tous les points de données sont traités comme un seul grand groupe \n",
    "et le processus de regroupement implique de diviser le seul grand se regrouper en plusieurs \n",
    "petits amas.\n",
    "\n",
    "Dans cet article, nous nous concentrerons sur le clustering agglomératif qui implique \n",
    "l'approche ascendante.\n",
    "\n",
    "\n",
    "##Étapes pour effectuer un clustering hiérarchique\n",
    "\n",
    "\n",
    "Voici les étapes impliquées dans le regroupement agglomératif :\n",
    "\n",
    "1- Au début,traitez chaque point de données comme un cluster. Par conséquent, le nombre de \n",
    "clusters au départ sera K, tandis que K est un entier représentant le nombre de points de \n",
    "données.\n",
    "2- Formez un cluster en joignant les deux points de données les plus proches, ce qui donne \n",
    "des clusters K-1.\n",
    "3- Formez plus de grappes en joignant les deux grappes les plus proches, ce qui donne \n",
    "des grappes K-2.\n",
    "4- Répétez les trois étapes ci-dessus jusqu'à ce qu'un gros cluster soit formé.\n",
    "5- Une fois qu'un seul cluster est formé, les dendrogrammes sont utilisés pour se diviser \n",
    "en plusieurs clusters en fonction du problème. Nous étudierons en détail le concept de \n",
    "dendrogramme dans une prochaine section.\n",
    "\n",
    "Il existe différentes façons de trouver la distance entre les clusters. La distance \n",
    "elle-même peut être la distance euclidienne ou la distance de Manhattan. Voici quelques-unes \n",
    "des options pour mesurer la distance entre deux clusters :\n",
    "\n",
    "1- Mesurez la distance entre les points de fermeture de deux clusters.\n",
    "2- Mesurer la distance entre les points les plus éloignés de deux clusters.\n",
    "3- Mesurez la distance entre les centroïdes de deux clusters.\n",
    "4- Mesurez la distance entre toutes les combinaisons possibles de points entre les deux \n",
    "clusters et prenez la moyenne.\n",
    "\n",
    "\n",
    "## Rôle des dendrogrammes pour le clustering hiérarchique\n",
    "\n",
    "\n",
    "Dans la dernière section, nous avons dit qu'une fois qu'un grand cluster est formé par la \n",
    "combinaison de petits clusters, les dendrogrammes du cluster sont utilisés pour diviser le \n",
    "cluster en plusieurs clusters de points de données liés. Voyons comment c'est réellement fait.\n",
    "\n",
    "Supposons que nous ayons une collection de points de données représentés par un numpytableau \n",
    "comme suit :"
   ]
  },
  {
   "cell_type": "code",
   "execution_count": 1,
   "metadata": {},
   "outputs": [],
   "source": [
    "import numpy as np\n",
    "\n",
    "X = np.array([[5,3],\n",
    "    [10,15],\n",
    "    [15,12],\n",
    "    [24,10],\n",
    "    [30,30],\n",
    "    [85,70],\n",
    "    [71,80],\n",
    "    [60,78],\n",
    "    [70,55],\n",
    "    [80,91],])"
   ]
  },
  {
   "cell_type": "code",
   "execution_count": 2,
   "metadata": {},
   "outputs": [
    {
     "ename": "SyntaxError",
     "evalue": "invalid syntax (<ipython-input-2-d7cf5ac5e48b>, line 1)",
     "output_type": "error",
     "traceback": [
      "\u001b[0;36m  File \u001b[0;32m\"<ipython-input-2-d7cf5ac5e48b>\"\u001b[0;36m, line \u001b[0;32m1\u001b[0m\n\u001b[0;31m    Traçons les points de données ci-dessus. Pour ce faire, exécutez le code suivant :\u001b[0m\n\u001b[0m              ^\u001b[0m\n\u001b[0;31mSyntaxError\u001b[0m\u001b[0;31m:\u001b[0m invalid syntax\n"
     ]
    }
   ],
   "source": [
    "Traçons les points de données ci-dessus. Pour ce faire, exécutez le code suivant :\n"
   ]
  },
  {
   "cell_type": "code",
   "execution_count": 3,
   "metadata": {},
   "outputs": [
    {
     "data": {
      "image/png": "[encoded data removed]",
      "text/plain": [
       "<Figure size 720x504 with 1 Axes>"
      ]
     },
     "metadata": {
      "needs_background": "light"
     },
     "output_type": "display_data"
    }
   ],
   "source": [
    "import matplotlib.pyplot as plt\n",
    "\n",
    "labels = range(1, 11)\n",
    "plt.figure(figsize=(10, 7))\n",
    "plt.subplots_adjust(bottom=0.1)\n",
    "plt.scatter(X[:,0],X[:,1], label='True Position')\n",
    "\n",
    "for label, x, y in zip(labels, X[:, 0], X[:, 1]):\n",
    "    plt.annotate(\n",
    "        label,\n",
    "        xy=(x, y), xytext=(-3, 3),\n",
    "        textcoords='offset points', ha='right', va='bottom')\n",
    "plt.show()\n"
   ]
  },
  {
   "cell_type": "code",
   "execution_count": null,
   "metadata": {},
   "outputs": [],
   "source": [
    "The script above draws the data points in the X numpy array and label data points from 1 to \n",
    "10. In the image below you'll see that the plot that is generated from this code:\n",
    "\n",
    "## image\n"
   ]
  },
  {
   "cell_type": "code",
   "execution_count": null,
   "metadata": {},
   "outputs": [],
   "source": [
    "Appelons le tracé ci-dessus Graph1. On peut voir à l'œil nu que les points de données forment\n",
    "deux groupes : le premier en bas à gauche composé des points 1-5 tandis que le second en haut \n",
    "à droite composé des points 6-10.\n",
    "\n",
    "Cependant, dans le monde réel, nous pouvons avoir des milliers de points de données dans bien \n",
    "plus de 2 dimensions. Dans ce cas, il ne serait pas possible de repérer les grappes à l'œil \n",
    "nu. C'est pourquoi des algorithmes de clustering ont été développés.\n",
    "\n",
    "Revenant à l'utilisation des dendrogrammes dans le regroupement hiérarchique, dessinons les \n",
    "dendrogrammes pour nos points de données. Nous utiliserons la bibliothèque scipy à cette fin. \n",
    "Exécutez le script suivant :"
   ]
  },
  {
   "cell_type": "code",
   "execution_count": null,
   "metadata": {},
   "outputs": [],
   "source": [
    "from scipy.cluster.hierarchy import dendrogram, linkage\n",
    "from matplotlib import pyplot as plt\n",
    "\n",
    "linked = linkage(X, 'single')\n",
    "\n",
    "labelList = range(1, 11)\n",
    "\n",
    "plt.figure(figsize=(10, 7))\n",
    "dendrogram(linked,\n",
    "            orientation='top',\n",
    "            labels=labelList,\n",
    "            distance_sort='descending',\n",
    "            show_leaf_counts=True)\n",
    "plt.show()\n"
   ]
  },
  {
   "cell_type": "code",
   "execution_count": null,
   "metadata": {},
   "outputs": [],
   "source": [
    "Le graphique de sortie ressemble à celui ci-dessous. Appelons ce graphique Graph2.\n",
    "\n",
    "## image du graphe (Diagramme de dendrogramme)\n",
    "\n",
    " "
   ]
  },
  {
   "cell_type": "code",
   "execution_count": null,
   "metadata": {},
   "outputs": [],
   "source": [
    "\n",
    "L'algorithme commence par trouver les deux points les plus proches l'un de l'autre sur la \n",
    "base de la distance euclidienne. Si nous regardons le graphique 1, nous pouvons voir que les \n",
    "points 2 et 3 sont les plus proches l'un de l'autre tandis que les points 7 et 8 sont proches \n",
    "l'un de l'autre. Par conséquent, un cluster se formera d'abord entre ces deux points. Dans \n",
    "Graph2, vous pouvez voir que les dendogrammes ont été créés en joignant les points 2 avec 3 \n",
    "et 8 avec 7. La hauteur verticale du dendogramme montre les distances euclidiennes entre les \n",
    "points. D'après le graphique 2, on peut voir que la distance euclidienne entre \n",
    "les points 8 et 7 est supérieure à la distance entre les points 2 et 3.\n",
    "\n"
   ]
  },
  {
   "cell_type": "code",
   "execution_count": null,
   "metadata": {},
   "outputs": [],
   "source": [
    "L'étape suivante consiste à rejoindre le cluster formé en joignant deux points au cluster ou \n",
    "au point le plus proche qui à son tour donne un autre cluster. Si vous regardez Graph1, le \n",
    "point 4 est le plus proche du groupe de points 2 et 3, donc dans Graph2 le dendrogramme est \n",
    "généré en joignant le point 4 avec le dendrogramme des points 2 et 3. Ce processus se \n",
    "poursuit jusqu'à ce que tous les points soient réunis pour former un grand groupe.\n",
    "\n",
    "Une fois qu'un grand groupe est formé, la distance verticale la plus longue sans aucune ligne \n",
    "horizontale la traversant est sélectionnée et une ligne horizontale est tracée à travers elle.\n",
    "Le nombre de lignes verticales traversées par cette ligne horizontale nouvellement créée est \n",
    "égal au nombre de clusters. Jetez un oeil à l'intrigue suivante:\n",
    "\n",
    "##graphique\n",
    "\n",
    "\n",
    "Nous pouvons voir que la plus grande distance verticale sans qu'aucune ligne horizontale ne \n",
    "la traverse est représentée par une ligne bleue. Nous traçons donc une nouvelle ligne rouge \n",
    "horizontale qui passe par la ligne bleue. Puisqu'il croise la ligne bleue en deux points, le \n",
    "nombre de clusters sera donc de 2.\n",
    "\n",
    "\n",
    "Fondamentalement, la ligne horizontale est un seuil, qui définit la distance minimale requise \n",
    "pour être un cluster séparé. Si nous traçons une ligne plus bas, le seuil requis pour être \n",
    "un nouveau cluster sera diminué et plus de clusters seront formés comme le montre l'image \n",
    "ci-dessous :\n",
    "    \n",
    "    #graphique\n",
    "    \n",
    "Dans le graphique ci-dessus, la ligne horizontale passe par quatre lignes verticales, ce qui \n",
    "donne quatre groupes : le groupe de points 6, 7, 8 et 10, le groupe de points 3, 2, 4 et les \n",
    "points 9 et 5 seront traités comme des groupes de points uniques.\n",
    "\n"
   ]
  },
  {
   "cell_type": "code",
   "execution_count": null,
   "metadata": {},
   "outputs": [],
   "source": [
    "##Clustering hiérarchique via Scikit-Learn\n",
    "\n"
   ]
  },
  {
   "cell_type": "code",
   "execution_count": null,
   "metadata": {},
   "outputs": [],
   "source": [
    "Assez de théorie, implémentons maintenant le clustering hiérarchique à l'aide de \n",
    "la bibliothèque Scikit-Learn de Python.\n",
    "\n",
    "Exemple 1\n",
    "\n",
    "Dans notre premier exemple, nous regrouperons le X numpytableau de points de données que \n",
    "nous avons créé dans la section précédente.\n",
    "\n",
    "Le processus de clustering est similaire à tout autre algorithme d'apprentissage automatique \n",
    "non supervisé. Nous commençons par importer les bibliothèques requises :\n",
    "\n"
   ]
  },
  {
   "cell_type": "code",
   "execution_count": null,
   "metadata": {},
   "outputs": [],
   "source": [
    "import matplotlib.pyplot as plt\n",
    "import pandas as pd\n",
    "%matplotlib inline\n",
    "import numpy as np\n",
    "\n"
   ]
  },
  {
   "cell_type": "code",
   "execution_count": null,
   "metadata": {},
   "outputs": [],
   "source": [
    "L'étape suivante consiste à importer ou à créer l'ensemble de données. Dans cet exemple, \n",
    "nous \n",
    "utiliserons les exemples de données suivants :\n",
    "\n"
   ]
  },
  {
   "cell_type": "code",
   "execution_count": null,
   "metadata": {},
   "outputs": [],
   "source": [
    "X = np.array([[5,3],\n",
    "    [10,15],\n",
    "    [15,12],\n",
    "    [24,10],\n",
    "    [30,30],\n",
    "    [85,70],\n",
    "    [71,80],\n",
    "    [60,78],\n",
    "    [70,55],\n",
    "    [80,91],])\n",
    "\n"
   ]
  },
  {
   "cell_type": "code",
   "execution_count": null,
   "metadata": {},
   "outputs": [],
   "source": [
    "L'étape suivante consiste à importer la classe pour le clustering et à appeler sa \n",
    "fit_predictméthode pour prédire les clusters auxquels appartient chaque point de données.\n",
    "\n",
    "Jetez un oeil au script suivant :\n",
    "\n",
    "from sklearn.cluster import AgglomerativeClustering\n",
    "\n",
    "cluster = AgglomerativeClustering(n_clusters=2, affinity='euclidean', linkage='ward')\n",
    "cluster.fit_predict(X)\n"
   ]
  },
  {
   "cell_type": "code",
   "execution_count": null,
   "metadata": {},
   "outputs": [],
   "source": [
    "\n",
    "Dans le code ci-dessus, nous importons la AgglomerativeClusteringclasse de la bibliothèque \n",
    "\"sklearn.cluster\". Le nombre de paramètres est défini sur 2 à l'aide du n_clustersparamètre \n",
    "tandis que le affinityest défini sur \"euclidienne\" (distance entre les points de données). \n",
    "Enfin linkage, le paramètre est défini sur \"ward\", ce qui minimise la variante entre \n",
    "les clusters.\n",
    "\n",
    "Ensuite, nous appelons la fit_predictméthode à partir de la AgglomerativeClusteringvariable \n",
    "de classe cluster. Cette méthode renvoie les noms des clusters auxquels appartient chaque \n",
    "point de données. Exécutez le script suivant pour voir comment les points de données \n",
    "ont été regroupés.\n",
    "\n"
   ]
  },
  {
   "cell_type": "code",
   "execution_count": null,
   "metadata": {},
   "outputs": [],
   "source": [
    "print(cluster.labels_)\n"
   ]
  },
  {
   "cell_type": "code",
   "execution_count": null,
   "metadata": {},
   "outputs": [],
   "source": [
    "La sortie est un tableau unidimensionnel de 10 éléments correspondant aux clusters affectés\n",
    "à nos 10 points de données.\n",
    "\n",
    "[1 1 1 1 1 0 0 0 0]\n",
    "\n"
   ]
  },
  {
   "cell_type": "code",
   "execution_count": null,
   "metadata": {},
   "outputs": [],
   "source": [
    "Comme prévu, les cinq premiers points ont été regroupés tandis que les cinq derniers points \n",
    "ont été regroupés. Il est important de mentionner ici que ces uns et ces zéros ne sont que \n",
    "des étiquettes attribuées aux clusters et n'ont aucune implication mathématique.\n",
    "\n",
    "Enfin, traçons nos clusters. Pour ce faire, exécutez le code suivant :\n"
   ]
  },
  {
   "cell_type": "code",
   "execution_count": null,
   "metadata": {},
   "outputs": [],
   "source": [
    "plt.scatter(X[:,0],X[:,1], c=cluster.labels_, cmap='rainbow')"
   ]
  },
  {
   "cell_type": "code",
   "execution_count": null,
   "metadata": {},
   "outputs": [],
   "source": [
    "## Tracé de points de données en couleur"
   ]
  },
  {
   "cell_type": "code",
   "execution_count": null,
   "metadata": {},
   "outputs": [],
   "source": [
    "Vous pouvez voir des points dans deux clusters où les cinq premiers points se sont regroupés \n",
    "et les cinq derniers points se sont regroupés.\n"
   ]
  },
  {
   "cell_type": "code",
   "execution_count": null,
   "metadata": {},
   "outputs": [],
   "source": [
    "Exemple 2\n",
    "Dans la dernière section, nous avons effectué un clustering hiérarchique sur des données \n",
    "fictives. Dans cet exemple, nous allons effectuer un clustering hiérarchique sur des données \n",
    "du monde réel et voir comment il peut être utilisé pour résoudre un problème réel.\n",
    "\n",
    "Le problème que nous allons résoudre dans cette section est de segmenter les clients en \n",
    "différents groupes en fonction de leurs tendances d'achat.\n",
    "\n",
    "L'ensemble de données pour ce problème peut être téléchargé à partir du lien suivant :\n",
    "shopping-data.csv\n",
    "\n",
    "Placez le fichier \"shopping-data.csv\" téléchargé dans le dossier \"Datasets\" du répertoire \n",
    "\"D\". Pour regrouper ces données en groupes, nous suivrons les mêmes étapes que celles que \n",
    "nous avons effectuées dans la section précédente.\n",
    "\n",
    "Exécutez le script suivant pour importer les bibliothèques souhaitées :"
   ]
  },
  {
   "cell_type": "code",
   "execution_count": null,
   "metadata": {},
   "outputs": [],
   "source": [
    "import matplotlib.pyplot as plt\n",
    "import pandas as pd\n",
    "%matplotlib inline\n",
    "import numpy as np"
   ]
  },
  {
   "cell_type": "code",
   "execution_count": null,
   "metadata": {},
   "outputs": [],
   "source": [
    "Ensuite, pour importer l'ensemble de données de cet exemple, exécutez le code suivant :\n"
   ]
  },
  {
   "cell_type": "code",
   "execution_count": null,
   "metadata": {},
   "outputs": [],
   "source": [
    "customer_data = pd.read_csv('D:\\Datasets\\shopping-data.csv')"
   ]
  },
  {
   "cell_type": "code",
   "execution_count": null,
   "metadata": {},
   "outputs": [],
   "source": [
    "Explorons un peu notre jeu de données. Pour vérifier le nombre d'enregistrements et \n",
    "d'attributs, exécutez le script suivant :\n"
   ]
  },
  {
   "cell_type": "code",
   "execution_count": null,
   "metadata": {},
   "outputs": [],
   "source": [
    "customer_data.shape"
   ]
  },
  {
   "cell_type": "code",
   "execution_count": null,
   "metadata": {},
   "outputs": [],
   "source": [
    "Le script ci-dessus renverra (200, 5)ce qui signifie que l'ensemble de données contient 200 \n",
    "enregistrements et 5 attributs.\n",
    "\n",
    "Pour observer l'ensemble de données, exécutez la head()fonction de la trame de données. \n",
    "Jetez un oeil au script suivant :\n"
   ]
  },
  {
   "cell_type": "code",
   "execution_count": null,
   "metadata": {},
   "outputs": [],
   "source": [
    "customer_data.head()"
   ]
  },
  {
   "cell_type": "code",
   "execution_count": null,
   "metadata": {},
   "outputs": [],
   "source": [
    "La sortie ressemblera à ceci :\n",
    "\n",
    "N ° de client\tLe genre\tÂge\tRevenu annuel (k$)\tScore de dépenses (1-100)\n",
    "0\t1\tHomme\t19\t15\t39\n",
    "1\t2\tHomme\t21\t15\t81\n",
    "2\t3\tFemelle\t20\t16\t6\n",
    "3\t4\tFemelle\t23\t16\t77\n",
    "4\t5\tFemelle\t31\t17\t40\n"
   ]
  },
  {
   "cell_type": "code",
   "execution_count": null,
   "metadata": {},
   "outputs": [],
   "source": [
    "Notre ensemble de données comporte cinq colonnes : CustomerID, Genre, Age, Annual Income et \n",
    "Spending Score. Pour visualiser les résultats dans un espace bidimensionnel, nous ne \n",
    "retiendrons que deux de ces cinq colonnes. Nous pouvons supprimer les colonnes \n",
    "CustomerID, Genre et Age. Nous conserverons les colonnes Revenu annuel (en milliers de \n",
    "dollars) et Score de dépenses (1-100). La colonne Score de dépense indique la fréquence à \n",
    "laquelle une personne dépense de l'argent dans un centre commercial sur une échelle de \n",
    "1 à 100, 100 étant le plus dépensier. Exécutez le script suivant pour filtrer les trois \n",
    "premières colonnes de notre ensemble de données:\n"
   ]
  },
  {
   "cell_type": "code",
   "execution_count": null,
   "metadata": {},
   "outputs": [],
   "source": [
    "data = customer_data.iloc[:, 3:5].values"
   ]
  },
  {
   "cell_type": "code",
   "execution_count": null,
   "metadata": {},
   "outputs": [],
   "source": [
    "Ensuite, nous devons connaître les clusters dans lesquels nous voulons que nos données soient\n",
    "divisées. Nous utiliserons à nouveau la scipybibliothèque pour créer les dendrogrammes de \n",
    "notre ensemble de données. Exécutez le script suivant pour ce faire :\n"
   ]
  },
  {
   "cell_type": "code",
   "execution_count": null,
   "metadata": {},
   "outputs": [],
   "source": [
    "import scipy.cluster.hierarchy as shc\n",
    "\n",
    "plt.figure(figsize=(10, 7))\n",
    "plt.title(\"Customer Dendograms\")\n",
    "dend = shc.dendrogram(shc.linkage(data, method='ward'))\n"
   ]
  },
  {
   "cell_type": "code",
   "execution_count": null,
   "metadata": {},
   "outputs": [],
   "source": [
    "Dans le script ci-dessus, nous importons la classe hiérarchique de la \n",
    "scipy.clusterbibliothèque en tant que shc. La classe de hiérarchie a une dendrogramméthode \n",
    "qui prend la valeur renvoyée par la linkageméthode de la même classe. La linkageméthode prend\n",
    "le jeu de données et la méthode pour minimiser les distances comme paramètres. Nous utilisons\n",
    "'ward' comme methodcar il minimise alors les variantes de distances entre les clusters.\n",
    "\n",
    "La sortie du script ci-dessus ressemble à ceci :\n",
    "    ## graphe\n"
   ]
  },
  {
   "cell_type": "code",
   "execution_count": null,
   "metadata": {},
   "outputs": [],
   "source": [
    "Si nous traçons une ligne horizontale qui traverse la distance la plus longue sans ligne \n",
    "horizontale, nous obtenons 5 clusters comme indiqué dans la figure suivante :\n",
    "    \n",
    "    ###graphe\n",
    "Maintenant que nous connaissons le nombre de clusters pour notre ensemble de données, l'étape\n",
    "suivante consiste à regrouper les points de données dans ces cinq clusters. Pour ce faire, \n",
    "nous utiliserons à nouveau la AgglomerativeClusteringclasse de \n",
    "la sklearn.clusterbibliothèque. Jetez un oeil au script suivant :\n"
   ]
  },
  {
   "cell_type": "code",
   "execution_count": null,
   "metadata": {},
   "outputs": [],
   "source": [
    "from sklearn.cluster import AgglomerativeClustering\n",
    "\n",
    "cluster = AgglomerativeClustering(n_clusters=5, affinity='euclidean', linkage='ward')\n",
    "cluster.fit_predict(data)"
   ]
  },
  {
   "cell_type": "code",
   "execution_count": null,
   "metadata": {},
   "outputs": [],
   "source": [
    "La sortie du script ci-dessus ressemble à ceci :\n",
    "\n",
    " array([4, 3, 4, 3, 4, 3, 4, 3, 4, 3, 4, 3, 4, 3, 4, 3, 4, 3, 4, 3, 4, 3, 4,\n",
    "       3, 4, 3, 4, 3, 4, 3, 4, 3, 4, 3, 4, 3, 4, 3, 4, 3, 4, 3, 4, 1, 4, 1,\n",
    "       1, 1, 1, 1, 1, 1, 1, 1, 1, 1, 1, 1, 1, 1, 1, 1, 1, 1, 1, 1, 1, 1, 1,\n",
    "       1, 1, 1, 1, 1, 1, 1, 1, 1, 1, 1, 1, 1, 1, 1, 1, 1, 1, 1, 1, 1, 1, 1,\n",
    "       1, 1, 1, 1, 1, 1, 1, 1, 1, 1, 1, 1, 1, 1, 1, 1, 1, 1, 1, 1, 1, 1, 1,\n",
    "       1, 1, 1, 1, 1, 1, 1, 1, 2, 1, 2, 1, 2, 0, 2, 0, 2, 1, 2, 0, 2, 0, 2,\n",
    "       0, 2, 0, 2, 1, 2, 0, 2, 1, 2, 0, 2, 0, 2, 0, 2, 1, 2, 0, 2, 0, 2, 1,\n",
    "       2, 0, 2, 0, 2, 0, 2, 0, 2, 0, 2, 0, 2, 0, 2, 0, 2, 0, 2, 0, 2, 0, 2,\n",
    "       0, 2, 0, 2, 0, 2, 0, 2, 0, 2, 0, 2, 0, 2, 0, 2], dtype=int64)\n",
    "\n"
   ]
  },
  {
   "cell_type": "code",
   "execution_count": null,
   "metadata": {},
   "outputs": [],
   "source": [
    "Vous pouvez voir les étiquettes de cluster de tous vos points de données. Comme nous avions \n",
    "cinq clusters, nous avons cinq étiquettes dans la sortie, c'est-à-dire de 0 à 4.\n",
    "\n",
    "Enfin, traçons les clusters pour voir comment nos données ont été regroupées :"
   ]
  },
  {
   "cell_type": "code",
   "execution_count": null,
   "metadata": {},
   "outputs": [],
   "source": [
    "plt.figure(figsize=(10, 7))\n",
    "plt.scatter(data[:,0], data[:,1], c=cluster.labels_, cmap='rainbow')"
   ]
  },
  {
   "cell_type": "code",
   "execution_count": null,
   "metadata": {},
   "outputs": [],
   "source": [
    "La sortie du code ci-dessus ressemble à ceci:\n",
    "    \n",
    "    ## graphe\n",
    "Vous pouvez voir les points de données sous la forme de cinq clusters. Les points de données \n",
    "en bas à droite appartiennent aux clients avec des salaires élevés mais de faibles dépenses. \n",
    "Ce sont les clients qui dépensent leur argent avec précaution. De même, les clients en haut à\n",
    "droite (points de données verts), ce sont les clients avec des salaires élevés et des \n",
    "dépenses élevées. C'est le type de clients que les entreprises ciblent. Les clients du milieu\n",
    "(points de données bleus) sont ceux qui ont un revenu moyen et des salaires moyens. Les plus \n",
    "grands nombres de clients appartiennent à cette catégorie. Les entreprises peuvent également \n",
    "cibler ces clients compte tenu du fait qu'ils sont très nombreux, etc.\n",
    "   "
   ]
  },
  {
   "cell_type": "code",
   "execution_count": null,
   "metadata": {},
   "outputs": [],
   "source": [
    "##Ressources"
   ]
  },
  {
   "cell_type": "code",
   "execution_count": null,
   "metadata": {},
   "outputs": [],
   "source": [
    "Entre tous les différents packages Python ( pandas, matplotlib, numpy, et sklearn), il y a \n",
    "beaucoup d'informations dans cet article qui pourraient être difficiles à suivre, et pour \n",
    "cette raison, nous vous recommandons de consulter des ressources plus détaillées sur \n",
    "l'exécution de tâches de science des données avec Python, telles que sous forme de cours en \n",
    "ligne :\n",
    "\n",
    ". Science des données en Python, Pandas, Scikit-learn, Numpy, Matplotlib\n",
    ". Bootcamp Python pour la science des données et l'apprentissage automatique\n",
    ". Machine Learning AZ : Python et R pratiques en science des données\n",
    "    \n",
    "Nous avons constaté que ces ressources sont suffisamment bonnes pour que vous repartiez avec \n",
    "une solide compréhension de la façon de les utiliser dans votre propre travail."
   ]
  },
  {
   "cell_type": "code",
   "execution_count": null,
   "metadata": {},
   "outputs": [],
   "source": [
    "################  CONCLUSION   ################################"
   ]
  },
  {
   "cell_type": "code",
   "execution_count": null,
   "metadata": {},
   "outputs": [],
   "source": [
    "La technique de clustering peut être très pratique lorsqu'il s'agit de données non \n",
    "étiquetées. Étant donné que la plupart des données du monde réel ne sont pas étiquetées et \n",
    "que l'annotation des données a des coûts plus élevés, des techniques de regroupement peuvent \n",
    "être utilisées pour étiqueter les données non étiquetées.\n",
    "\n",
    "Dans cet article, nous avons expliqué le clustering hiérarchique à l'aide de deux exemples. \n",
    "Pour plus d'articles sur l'apprentissage automatique et la science des données, continuez à \n",
    "visiter ce site. \n"
   ]
  },
  {
   "cell_type": "code",
   "execution_count": null,
   "metadata": {},
   "outputs": [],
   "source": []
  },
  {
   "cell_type": "code",
   "execution_count": null,
   "metadata": {},
   "outputs": [],
   "source": []
  },
  {
   "cell_type": "code",
   "execution_count": null,
   "metadata": {},
   "outputs": [],
   "source": []
  }
 ],
 "metadata": {
  "kernelspec": {
   "display_name": "Python 3",
   "language": "python",
   "name": "python3"
  },
  "language_info": {
   "codemirror_mode": {
    "name": "ipython",
    "version": 3
   },
   "file_extension": ".py",
   "mimetype": "text/x-python",
   "name": "python",
   "nbconvert_exporter": "python",
   "pygments_lexer": "ipython3",
   "version": "3.6.9"
  }
 },
 "nbformat": 4,
 "nbformat_minor": 4
}
