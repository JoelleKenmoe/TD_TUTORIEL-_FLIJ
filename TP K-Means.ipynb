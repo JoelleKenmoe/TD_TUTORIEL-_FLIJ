{
 "cells": [
  {
   "cell_type": "code",
   "execution_count": null,
   "metadata": {},
   "outputs": [],
   "source": [
    "############### INTRODUCTION  ################################"
   ]
  },
  {
   "cell_type": "code",
   "execution_count": null,
   "metadata": {},
   "outputs": [],
   "source": [
    "K-Means est une technique de clustering très populaire. Le clustering K-means est une autre \n",
    "classe d'algorithmes d'apprentissage non supervisés utilisés pour découvrir les clusters de \n",
    "données dans un ensemble de données donné.\n",
    "\n",
    "Dans cet article, nous allons implémenter l'algorithme de clustering K-Means à partir de zéro\n",
    "en utilisant le module Numpy .\n",
    "\n",
    "Les 5 étapes de l'algorithme de clustering K-means\n",
    "\n",
    "Étape 1. Choisissez au hasard k points de données comme centroïdes initiaux\n",
    "Étape 2. Trouvez la distance (distance euclidienne pour notre objectif) entre chaque point de\n",
    "données de notre ensemble d'entraînement avec les k centroïdes.\n",
    "Étape 3. Attribuez maintenant chaque point de données au centroïde le plus proche en fonction\n",
    "de la distance trouvée.\n",
    "Étape 4. Mettez à jour l'emplacement du centroïde en prenant la moyenne des points dans \n",
    "chaque groupe de clusters.\n",
    "Étape 5. Répétez les étapes 2 à 4 jusqu'à ce que nos centroïdes ne changent pas.\n",
    "\n",
    "Nous pouvons choisir la valeur optimale de K (Number of Clusters) en utilisant des méthodes \n",
    "comme la méthode The Elbow.\n"
   ]
  },
  {
   "cell_type": "code",
   "execution_count": null,
   "metadata": {},
   "outputs": [],
   "source": [
    "#Implémentation de l'algorithme de clustering K-Means"
   ]
  },
  {
   "cell_type": "code",
   "execution_count": null,
   "metadata": {},
   "outputs": [],
   "source": [
    "Implémentons maintenant les étapes ci-dessus dans le code. Importez le module numpy, puis \n",
    "parcourez le reste du code ici pour comprendre comment le clustering K-Means est implémenté \n",
    "dans le code.\n"
   ]
  },
  {
   "cell_type": "code",
   "execution_count": null,
   "metadata": {},
   "outputs": [],
   "source": [
    "#numpy: bibliotheque python qui comporte des fonctions permettant de manipuler des matrices  \n",
    "ou tableaux.\n",
    "#cdist: calcule la distance entre chaque paire des deux collections d'entrées. \n",
    "ca prend en paramettre: array:  qui est un tableau d'entrée ou objet ayant les éléménts pour \n",
    "calculer la distance entre chaque paire des deux collections d'entrées."
   ]
  },
  {
   "cell_type": "code",
   "execution_count": null,
   "metadata": {},
   "outputs": [],
   "source": [
    "#Importer les modules requis\n",
    " \n",
    "import numpy as np\n",
    "from scipy.spatial.distance import cdist \n",
    " \n",
    "#Fonction pour implémenter les étapes données dans la section précédente\n",
    "def kmeans(x,k, no_of_iterations):\n",
    "    idx = np.random.choice(len(x), k, replace=False)\n",
    "    #Choisir au  hasard des centroides\n",
    "    centroids = x[idx, :] # étape 1\n",
    "     \n",
    "    #Trouver la distance entre les centres de gravité et tous les points de données\n",
    "    distances = cdist(x, centroids ,'euclidean') # étape 2\n",
    "     \n",
    "    #Centroide avec la distance minimale\n",
    "    points = np.array([np.argmin(i) for i in distances]) # étape 3\n",
    "     \n",
    "    #Répéter les étapes ci-dessus pour un nombre défini d'iterations\n",
    "    # étape 4\n",
    "    for _ in range(no_of_iterations): \n",
    "        centroids = []\n",
    "        for idx in range(k):\n",
    "             #Mise a jour des centroides en prenant la moyenne du cluster auquel il appartient \n",
    "             temp_cent = x[points==idx].mean(axis=0) \n",
    "             centroids.append(temp_cent)\n",
    " \n",
    "        centroids = np.vstack(centroids) # Centre de gravité mis a jour \n",
    "         \n",
    "        distances = cdist(x, centroids ,'euclidean')\n",
    "        points = np.array([np.argmin(i) for i in distances])\n",
    "         \n",
    "    return points"
   ]
  },
  {
   "cell_type": "code",
   "execution_count": null,
   "metadata": {},
   "outputs": [],
   "source": [
    "La fonction ci-dessus renvoie un tableau d'étiquettes de cluster pour chaque point de données\n",
    "de notre ensemble d'apprentissage.\n",
    "\n",
    "Test des clusters K-Means\n",
    "\n",
    "Nous utiliserons le jeu de données digits (intégré au module sklearn) pour tester notre \n",
    "fonction. Vous pouvez vous référer à cet article pour en savoir plus sur le traçage des \n",
    "clusters K-Means."
   ]
  },
  {
   "cell_type": "markdown",
   "metadata": {},
   "source": [
    "load_digits\n",
    "PCA: analyse en composante principale.\n",
    "matplotlib: est une bibliotheque de python destinée a tracer et visualiser des données\n",
    "sous forme de graphiques."
   ]
  },
  {
   "cell_type": "code",
   "execution_count": null,
   "metadata": {},
   "outputs": [],
   "source": [
    "# Chargement des modules requis\n",
    " \n",
    "import numpy as np\n",
    "from scipy.spatial.distance import cdist \n",
    "from sklearn.datasets import load_digits\n",
    "from sklearn.decomposition import PCA\n",
    "from sklearn.cluster import KMeans\n",
    "import matplotlib.pyplot as plt\n",
    " \n",
    "#Definir notre fonction \n",
    "def kmeans(x,k, no_of_iterations):\n",
    "    idx = np.random.choice(len(x), k, replace=False)\n",
    "    # Choisir au hasard des Centroides \n",
    "    centroids = x[idx, :] # étape 1\n",
    "     \n",
    "    #Trouver la distance entre les centroides et tous les points de données\n",
    "    distances = cdist(x, centroids ,'euclidean') # étape 2\n",
    "     \n",
    "    #Centroide avec la distance minimale\n",
    "    points = np.array([np.argmin(i) for i in distances]) # étape 3\n",
    "     \n",
    "    #Répéter les étapes ci-dessus pour un nombre défini d'iterations\n",
    "    # étape 4\n",
    "    for _ in range(no_of_iterations): \n",
    "        centroids = []\n",
    "        for idx in range(k):\n",
    "            # Mise a jour des centroides en prenant la moyenne du cluster auquel il appartient\n",
    "            temp_cent = x[points==idx].mean(axis=0) \n",
    "            centroids.append(temp_cent)\n",
    " \n",
    "        centroids = np.vstack(centroids) #Centre  de gravité mise a jour \n",
    "         \n",
    "        distances = cdist(x, centroids ,'euclidean')\n",
    "        points = np.array([np.argmin(i) for i in distances])\n",
    "         \n",
    "    return points\n",
    "\n",
    "\n",
    "# Charger des données\n",
    "data = load_digits().data\n",
    "pca = PCA(2)\n",
    "  \n",
    "#Transformer les données\n",
    "df = pca.fit_transform(data)\n",
    " \n",
    "#Appliquer notre fonction\n",
    "label = kmeans(df,10,1000)\n",
    " \n",
    "#Visualiser les résultats\n",
    " \n",
    "u_labels = np.unique(label)\n",
    "for i in u_labels:\n",
    "    plt.scatter(df[label == i , 0] , df[label == i , 1] , label = i)\n",
    "plt.legend()\n",
    "plt.show()\n",
    "\n",
    "\n"
   ]
  },
  {
   "cell_type": "code",
   "execution_count": null,
   "metadata": {},
   "outputs": [],
   "source": [
    "## Tracer des grappes de K signifie\n",
    "\n",
    "Les résultats de sortie semblent prometteurs. Nos travaux de mise en œuvre.\n",
    "\n"
   ]
  },
  {
   "cell_type": "code",
   "execution_count": null,
   "metadata": {},
   "outputs": [],
   "source": [
    "################### CONCLUSION ###################################"
   ]
  },
  {
   "cell_type": "code",
   "execution_count": null,
   "metadata": {},
   "outputs": [],
   "source": [
    "Dans cet article, nous avons créé un algorithme de clustering K-Means à partir de zéro en \n",
    "utilisant Python. Nous avons également couvert les étapes de création de l'algorithme K-Means\n",
    "et enfin testé notre implémentation sur le jeu de données Digits. Vous pouvez lire les \n",
    "aspects théoriques de l'algorithme de clustering K-means sur la page Wikipedia ici\n"
   ]
  }
 ],
 "metadata": {
  "kernelspec": {
   "display_name": "Python 3",
   "language": "python",
   "name": "python3"
  },
  "language_info": {
   "codemirror_mode": {
    "name": "ipython",
    "version": 3
   },
   "file_extension": ".py",
   "mimetype": "text/x-python",
   "name": "python",
   "nbconvert_exporter": "python",
   "pygments_lexer": "ipython3",
   "version": "3.6.9"
  }
 },
 "nbformat": 4,
 "nbformat_minor": 4
}
